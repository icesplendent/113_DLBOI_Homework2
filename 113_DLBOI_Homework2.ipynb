{
  "cells": [
    {
      "cell_type": "markdown",
      "metadata": {
        "id": "qMyx7zJdsLnp"
      },
      "source": [
        "# **Homework 2**"
      ]
    },
    {
      "cell_type": "markdown",
      "metadata": {
        "id": "EppuFnbCtNIL"
      },
      "source": [
        "## **Basis of Numpy Library**"
      ]
    },
    {
      "cell_type": "markdown",
      "metadata": {
        "id": "E0InkejMaoc0"
      },
      "source": [
        "Numpy is the core library for scientific computing in Python. It provides a high-performance multidimensional array object and tools for working with these **arrays**."
      ]
    },
    {
      "cell_type": "markdown",
      "metadata": {
        "id": "1v3TemB-as9m"
      },
      "source": [
        "To use Numpy, we first need to import the `numpy` package:"
      ]
    },
    {
      "cell_type": "code",
      "execution_count": 1,
      "metadata": {
        "id": "wkdPPs8Ual1P"
      },
      "outputs": [],
      "source": [
        "# import library\n",
        "import numpy as np"
      ]
    },
    {
      "cell_type": "markdown",
      "metadata": {
        "id": "WmaZo-Cwai-R"
      },
      "source": [
        "### **Arrays**"
      ]
    },
    {
      "cell_type": "markdown",
      "metadata": {
        "id": "Omuw2muIbUf-"
      },
      "source": [
        "- A numpy array is a grid of values, all of the same type, and is indexed by a tuple of nonnegative integers.\n",
        "\n",
        "- The number of dimensions is the rank of the array;\n",
        "\n",
        "- The shape of an array is a tuple of integers giving the size of the array along each dimension."
      ]
    },
    {
      "cell_type": "markdown",
      "metadata": {
        "id": "XwMFcAYGHMe1"
      },
      "source": [
        "**Exercise:**\n",
        "- What is an **array**?\n",
        "- Give an example that can be represented by an array."
      ]
    },
    {
      "cell_type": "code",
      "execution_count": 2,
      "metadata": {
        "id": "GqHLJVRAaYm5"
      },
      "outputs": [
        {
          "name": "stdout",
          "output_type": "stream",
          "text": [
            "The variable type of array1D is a $<class 'numpy.ndarray'>, the dimension of it is $1\n"
          ]
        }
      ],
      "source": [
        "# create 1d array\n",
        "array1D = np.array([1, 2, 3, 4 ,5])\n",
        "\n",
        "print(f\"The variable type of array1D is a ${type(array1D)}, the dimension of it is ${array1D.ndim}\")\n",
        "# print(f\"The type of variable array1 is ${typeof(array1)}\")"
      ]
    },
    {
      "cell_type": "code",
      "execution_count": 3,
      "metadata": {
        "id": "bCWi5Xo8bjuB"
      },
      "outputs": [
        {
          "name": "stdout",
          "output_type": "stream",
          "text": [
            "The shape of array1D is $(5,)\n"
          ]
        }
      ],
      "source": [
        "# print shape\n",
        "print(f\"The shape of array1D is ${array1D.shape}\")"
      ]
    },
    {
      "cell_type": "code",
      "execution_count": 4,
      "metadata": {
        "id": "OR6kuX1IbyuK"
      },
      "outputs": [],
      "source": [
        "# create 2d array\n",
        "temp = np.array([1, 2, 3, 4, 5, 6, 7, 8, 9, 10])\n",
        "array2D = temp.reshape(-1, 2)"
      ]
    },
    {
      "cell_type": "code",
      "execution_count": 5,
      "metadata": {
        "id": "27cuNwgLcTRm"
      },
      "outputs": [
        {
          "name": "stdout",
          "output_type": "stream",
          "text": [
            "The shape of array2D is $(5, 2) with $2 dimensions\n"
          ]
        }
      ],
      "source": [
        "# print shape\n",
        "print(f\"The shape of array2D is ${array2D.shape} with ${array2D.ndim} dimensions\")"
      ]
    },
    {
      "cell_type": "code",
      "execution_count": 6,
      "metadata": {
        "id": "nbSMAgoDcZxz"
      },
      "outputs": [],
      "source": [
        "# create 3d array\n",
        "array3D = np.zeros((3, 3, 3))"
      ]
    },
    {
      "cell_type": "code",
      "execution_count": 7,
      "metadata": {
        "id": "mvSWGMOScgGo"
      },
      "outputs": [
        {
          "name": "stdout",
          "output_type": "stream",
          "text": [
            "The shape of array3D is $(3, 3, 3)\n"
          ]
        }
      ],
      "source": [
        "# print shape\n",
        "print(f\"The shape of array3D is ${array3D.shape}\")"
      ]
    },
    {
      "cell_type": "markdown",
      "metadata": {
        "id": "QdGQ0zYAeG75"
      },
      "source": [
        "### **Array Indexing**"
      ]
    },
    {
      "cell_type": "code",
      "execution_count": 8,
      "metadata": {
        "id": "zdCkuMr6eHiD"
      },
      "outputs": [
        {
          "name": "stdout",
          "output_type": "stream",
          "text": [
            "the second item in array1D is $2\n"
          ]
        }
      ],
      "source": [
        "# print the second element in your 1d array\n",
        "print(f\"the second item in array1D is ${array1D[1]}\")"
      ]
    },
    {
      "cell_type": "code",
      "execution_count": 9,
      "metadata": {
        "id": "op2QqmpPeYck"
      },
      "outputs": [
        {
          "name": "stdout",
          "output_type": "stream",
          "text": [
            "The first row second element in array2D is $2\n"
          ]
        }
      ],
      "source": [
        "# print the first row second element in your 2d array\n",
        "print(f\"The first row second element in array2D is ${array2D[0][1]}\")"
      ]
    },
    {
      "cell_type": "code",
      "execution_count": 10,
      "metadata": {
        "id": "vjPpPvaAfZSW"
      },
      "outputs": [
        {
          "name": "stdout",
          "output_type": "stream",
          "text": [
            "The first rank first row second element in array3D is $0.0\n"
          ]
        }
      ],
      "source": [
        "# print the first rank first row second element in your 3d array\n",
        "print(f\"The first rank first row second element in array3D is ${array3D[0][0][1]}\")"
      ]
    },
    {
      "cell_type": "markdown",
      "metadata": {
        "id": "u6KW251LhV6s"
      },
      "source": [
        "### **Array Operations**"
      ]
    },
    {
      "cell_type": "code",
      "execution_count": 11,
      "metadata": {
        "id": "Br1t_huKhYt_"
      },
      "outputs": [
        {
          "name": "stdout",
          "output_type": "stream",
          "text": [
            "[[10 12]\n",
            " [14 16]\n",
            " [18 20]\n",
            " [22 24]]\n",
            "[[10 12]\n",
            " [14 16]\n",
            " [18 20]\n",
            " [22 24]]\n"
          ]
        }
      ],
      "source": [
        "# create 2 2d-array\n",
        "newArray2D1 = np.array([1, 2, 3, 4, 5, 6, 7, 8]).reshape(-1, 2)\n",
        "newArray2D2 = np.array([9, 10, 11, 12, 13, 14, 15, 16]).reshape(-1, 2)\n",
        "# print(newArray2D)\n",
        "\n",
        "# Elementwise sum; both produce an array\n",
        "sum1 = newArray2D1 + newArray2D2\n",
        "sum1_alt = np.add(newArray2D1, newArray2D2)\n",
        "print(sum1)\n",
        "print(sum1_alt)\n"
      ]
    },
    {
      "cell_type": "code",
      "execution_count": 12,
      "metadata": {
        "id": "hdbcX4o1jIUC"
      },
      "outputs": [
        {
          "name": "stdout",
          "output_type": "stream",
          "text": [
            "[[-8 -8]\n",
            " [-8 -8]\n",
            " [-8 -8]\n",
            " [-8 -8]]\n",
            "[[-8 -8]\n",
            " [-8 -8]\n",
            " [-8 -8]\n",
            " [-8 -8]]\n"
          ]
        }
      ],
      "source": [
        "# Elementwise difference; both produce an array\n",
        "diff = newArray2D1 - newArray2D2\n",
        "diff_alt = np.subtract(newArray2D1, newArray2D2)\n",
        "print(diff)\n",
        "print(diff_alt)"
      ]
    },
    {
      "cell_type": "code",
      "execution_count": 13,
      "metadata": {
        "id": "kDpq2bjKjRaV"
      },
      "outputs": [
        {
          "name": "stdout",
          "output_type": "stream",
          "text": [
            "[[0.11111111 0.2       ]\n",
            " [0.27272727 0.33333333]\n",
            " [0.38461538 0.42857143]\n",
            " [0.46666667 0.5       ]]\n",
            "[[0.11111111 0.2       ]\n",
            " [0.27272727 0.33333333]\n",
            " [0.38461538 0.42857143]\n",
            " [0.46666667 0.5       ]]\n"
          ]
        }
      ],
      "source": [
        "# Elementwise division; both produce an array\n",
        "print(newArray2D1 / newArray2D2)\n",
        "print(np.divide(newArray2D1, newArray2D2))"
      ]
    },
    {
      "cell_type": "code",
      "execution_count": 14,
      "metadata": {
        "id": "4PvxB3fmjIwS"
      },
      "outputs": [
        {
          "name": "stdout",
          "output_type": "stream",
          "text": [
            "[[  9  20]\n",
            " [ 33  48]\n",
            " [ 65  84]\n",
            " [105 128]]\n",
            "[[  9  20]\n",
            " [ 33  48]\n",
            " [ 65  84]\n",
            " [105 128]]\n"
          ]
        }
      ],
      "source": [
        "# Elementwise product; both produce the array\n",
        "print(newArray2D1 * newArray2D2)\n",
        "print(np.multiply(newArray2D1, newArray2D2))\n"
      ]
    },
    {
      "cell_type": "code",
      "execution_count": 15,
      "metadata": {
        "id": "uo6lLN9pYVCY"
      },
      "outputs": [
        {
          "name": "stdout",
          "output_type": "stream",
          "text": [
            "newArray2D1:\n",
            " $[[1 2]\n",
            " [3 4]\n",
            " [5 6]\n",
            " [7 8]]\n",
            "newArray2D3:\n",
            " $[[0.48528278 0.55898771 0.22493603]\n",
            " [0.21366216 0.9685593  0.33880297]] \n",
            "\n",
            "===============================\n",
            "\n",
            "[[ 0.91260709  2.49610631  0.90254196]\n",
            " [ 2.31049696  5.55120032  2.03001996]\n",
            " [ 3.70838683  8.60629433  3.15749795]\n",
            " [ 5.1062767  11.66138835  4.28497594]]\n",
            "[[ 0.91260709  2.49610631  0.90254196]\n",
            " [ 2.31049696  5.55120032  2.03001996]\n",
            " [ 3.70838683  8.60629433  3.15749795]\n",
            " [ 5.1062767  11.66138835  4.28497594]]\n"
          ]
        }
      ],
      "source": [
        "# Dot product or matrix multiplication\n",
        "newArray2D3 = np.random.rand(2, 3)\n",
        "print(f\"newArray2D1:\\n ${newArray2D1}\")\n",
        "print(f\"newArray2D3:\\n ${newArray2D3} \")\n",
        "print(f\"\\n===============================\\n\")\n",
        "print(newArray2D1.dot(newArray2D3))\n",
        "print(np.dot(newArray2D1, newArray2D3))"
      ]
    },
    {
      "cell_type": "markdown",
      "metadata": {
        "id": "_U0Lf-5GZIfo"
      },
      "source": [
        "## Basis of OpenCV"
      ]
    },
    {
      "cell_type": "code",
      "execution_count": null,
      "metadata": {
        "colab": {
          "base_uri": "https://localhost:8080/"
        },
        "id": "pvmfH2c_ZMu5",
        "outputId": "95c56735-ca75-4bbf-e1ac-e90a0d710015"
      },
      "outputs": [
        {
          "name": "stdout",
          "output_type": "stream",
          "text": [
            "Mounted at /content/drive/\n"
          ]
        }
      ],
      "source": [
        "from google.colab import drive\n",
        "drive.mount('/content/drive/')"
      ]
    },
    {
      "cell_type": "code",
      "execution_count": 2,
      "metadata": {
        "id": "f1b7B7QodWKV"
      },
      "outputs": [],
      "source": [
        "# read file\n",
        "import cv2\n",
        "# from google.colab.patches import cv2_imshow\n",
        "\n",
        "filename = '/Users/icesplendent/Desktop/DL_biotech/Hw/Hw2/hw2_image.png' # your file path\n"
      ]
    },
    {
      "cell_type": "code",
      "execution_count": 3,
      "metadata": {
        "id": "sq9Gwh3xepCt"
      },
      "outputs": [
        {
          "name": "stdout",
          "output_type": "stream",
          "text": [
            "(1024, 1024, 3)\n"
          ]
        },
        {
          "data": {
            "text/plain": [
              "-1"
            ]
          },
          "execution_count": 3,
          "metadata": {},
          "output_type": "execute_result"
        }
      ],
      "source": [
        "# Rotate\n",
        "image = cv2.imread(filename)\n",
        "\n",
        "# check the image\n",
        "# cv2.imshow('initial', image)\n",
        "# k = cv2.waitKey(1)\n",
        "\n",
        "# check the format\n",
        "print(image.shape)\n",
        "\n",
        "# do the rotation\n",
        "(h, w, d) = image.shape\n",
        "center = (h//2, w//2)\n",
        "\n",
        "R = cv2.getRotationMatrix2D(center, 180, 1.0)  # params: center, angle, scale\n",
        "rotat_img = cv2.warpAffine(image, R, (w, h))\n",
        "\n",
        "# Show the Rotated Picture\n",
        "cv2.imshow(\"Rotated\", rotat_img)\n",
        "cv2.waitKey(1)"
      ]
    },
    {
      "cell_type": "code",
      "execution_count": 7,
      "metadata": {},
      "outputs": [],
      "source": [
        "# To close the windows\n",
        "cv2.destroyAllWindows()\n",
        "# cv2.destroyWindow(\"Rotated\")\n",
        "for i in range (1,5):\n",
        "    cv2.waitKey(1)"
      ]
    },
    {
      "cell_type": "code",
      "execution_count": 10,
      "metadata": {
        "id": "oRpSqegse8jQ"
      },
      "outputs": [
        {
          "data": {
            "text/plain": [
              "True"
            ]
          },
          "execution_count": 10,
          "metadata": {},
          "output_type": "execute_result"
        }
      ],
      "source": [
        "# Denoise by filter\n",
        "def gaussian_kernel(size, sigma):\n",
        "    kernel = np.fromfunction(\n",
        "        lambda x, y: (1 / (2 * np.pi * sigma**2)) * np.exp(\n",
        "                -((x - ((size - 1) / 2)**2) + y - ((size - 1) / 2)**2) / (2 * sigma**2)\n",
        "            ),\n",
        "        (size, size)\n",
        "    )\n",
        "    return kernel\n",
        "\n",
        "\n",
        "# denoised_img = cv2.filter2D(rotat_img, -1, gaussian_kernel(5, 3.1))\n",
        "# denoised_img = cv2.GaussianBlur(rotat_img, (5, 5), 1)\n",
        "denoised_img = cv2.medianBlur(rotat_img, 7)\n",
        "combined_image = np.hstack((image, denoised_img))\n",
        "cv2.imshow(\"Initial (left) and denoised (right)\", combined_image)\n",
        "cv2.waitKey(1)\n",
        "\n",
        "cv2.imwrite(\"/Users/icesplendent/Desktop/DL_biotech/Hw/handin_purpose/Hw2/112066701_王柏涵_HW2.png\", denoised_img)"
      ]
    },
    {
      "cell_type": "code",
      "execution_count": null,
      "metadata": {
        "id": "COOKR1uTzcnb"
      },
      "outputs": [],
      "source": []
    }
  ],
  "metadata": {
    "colab": {
      "provenance": [],
      "toc_visible": true
    },
    "kernelspec": {
      "display_name": "Python 3 (ipykernel)",
      "language": "python",
      "name": "python3"
    },
    "language_info": {
      "codemirror_mode": {
        "name": "ipython",
        "version": 3
      },
      "file_extension": ".py",
      "mimetype": "text/x-python",
      "name": "python",
      "nbconvert_exporter": "python",
      "pygments_lexer": "ipython3",
      "version": "3.12.3"
    }
  },
  "nbformat": 4,
  "nbformat_minor": 0
}
